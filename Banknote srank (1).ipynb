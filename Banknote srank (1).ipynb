{
 "cells": [
  {
   "cell_type": "code",
   "execution_count": 1,
   "id": "b9e121f7",
   "metadata": {},
   "outputs": [],
   "source": [
    "import time\n",
    "import warnings\n",
    "from ripser import ripser\n",
    "import numpy as np\n",
    "from numpy import inf\n",
    "import matplotlib.pyplot as plt\n",
    "from persim import plot_diagrams\n",
    "import persim\n",
    "import glob\n",
    "from numpy import asarray\n",
    "from PIL import Image\n",
    "import os\n",
    "\n",
    "from sklearn import cluster, datasets\n",
    "from sklearn.preprocessing import StandardScaler\n",
    "from itertools import cycle, islice\n",
    "import random\n",
    "from sklearn.datasets import load_breast_cancer\n",
    "\n",
    "from sklearn.semi_supervised import LabelPropagation\n",
    "from sklearn.semi_supervised import LabelSpreading\n",
    "from sklearn.semi_supervised import SelfTrainingClassifier\n",
    "from sklearn.svm import SVC\n",
    "import warnings\n",
    "\n",
    "import umap\n",
    "\n",
    "import pandas as pd\n",
    "\n",
    "from scipy.spatial.distance import pdist, squareform\n",
    "\n",
    "import stablerank.srank as sr\n",
    "\n",
    "warnings.filterwarnings('ignore')"
   ]
  },
  {
   "cell_type": "code",
   "execution_count": 2,
   "id": "0391a473",
   "metadata": {},
   "outputs": [
    {
     "name": "stderr",
     "output_type": "stream",
     "text": [
      "--2024-01-28 22:26:43--  https://unirioja-my.sharepoint.com/:x:/g/personal/adines_unirioja_es/Ec1NYYxE6WRLlC0uuyXPzcgBO7w6wZcxW4WHsObhYBrHmA?download=1\n",
      "Resolving unirioja-my.sharepoint.com (unirioja-my.sharepoint.com)... 13.107.138.10, 13.107.136.10\n",
      "Connecting to unirioja-my.sharepoint.com (unirioja-my.sharepoint.com)|13.107.138.10|:443... connected.\n",
      "HTTP request sent, awaiting response... 302 Found\n",
      "Location: /personal/adines_unirioja_es/Documents/banknote.csv?ga=1 [following]\n",
      "--2024-01-28 22:26:43--  https://unirioja-my.sharepoint.com/personal/adines_unirioja_es/Documents/banknote.csv?ga=1\n",
      "Reusing existing connection to unirioja-my.sharepoint.com:443.\n",
      "HTTP request sent, awaiting response... 200 OK\n",
      "Length: 45030 (44K) [application/octet-stream]\n",
      "Saving to: 'banknote.csv'\n",
      "\n",
      "     0K .......... .......... .......... .......... ...       100% 11,9M=0,004s\n",
      "\n",
      "2024-01-28 22:26:43 (11,9 MB/s) - 'banknote.csv' saved [45030/45030]\n",
      "\n"
     ]
    }
   ],
   "source": [
    "!wget https://unirioja-my.sharepoint.com/:x:/g/personal/adines_unirioja_es/Ec1NYYxE6WRLlC0uuyXPzcgBO7w6wZcxW4WHsObhYBrHmA?download=1 -O banknote.csv"
   ]
  },
  {
   "cell_type": "code",
   "execution_count": 3,
   "id": "697a1180",
   "metadata": {},
   "outputs": [],
   "source": [
    "def load_prima():\n",
    "  df=pd.read_csv(\"banknote.csv\", sep=',',header=None)\n",
    "  df1 = df.iloc[:,:-1]\n",
    "  df2=df.iloc[:,-1]\n",
    "  return df1.values,df2.values"
   ]
  },
  {
   "cell_type": "code",
   "execution_count": null,
   "id": "fedd174e",
   "metadata": {},
   "outputs": [],
   "source": []
  },
  {
   "cell_type": "code",
   "execution_count": 4,
   "id": "45eec013",
   "metadata": {},
   "outputs": [],
   "source": [
    "def preparar_dataset(data,target,n_labeled=25):\n",
    "  unos=np.where(target==1)[0]\n",
    "  ceros=np.where(target==0)[0]\n",
    "\n",
    "  datos_uno=np.array(data)[unos]\n",
    "  datos_cero=np.array(data)[ceros]\n",
    "\n",
    "  unos_valid=int((len(list(unos))-n_labeled)*0.2)\n",
    "  ceros_valid=int((len(list(ceros))-n_labeled)*0.2)\n",
    "\n",
    "  random.seed(15)\n",
    "  indices_unos=random.sample(list(unos),n_labeled+unos_valid)\n",
    "\n",
    "  random.seed(10)\n",
    "  indices_ceros=random.sample(list(ceros),n_labeled+ceros_valid)\n",
    "\n",
    "\n",
    "  puntos_unos=np.array(data)[indices_unos[0:n_labeled]]\n",
    "  puntos_ceros=np.array(data)[indices_ceros[0:n_labeled]]\n",
    "\n",
    "  puntos_unos_valid=np.array(data)[indices_unos[n_labeled:]]\n",
    "  puntos_ceros_valid=np.array(data)[indices_ceros[n_labeled:]]\n",
    "\n",
    "  unlabeled_unos=list(set(unos)-set(indices_unos))\n",
    "  unlabeled_ceros=list(set(ceros)-set(indices_ceros))\n",
    "  unlabeled=unlabeled_unos+unlabeled_ceros\n",
    "  X_unlabeled_unos=np.array(data)[unlabeled_unos]\n",
    "  X_unlabeled_ceros=np.array(data)[unlabeled_ceros]\n",
    "\n",
    "  return (puntos_ceros,puntos_unos,X_unlabeled_ceros,X_unlabeled_unos,puntos_ceros_valid,puntos_unos_valid)"
   ]
  },
  {
   "cell_type": "code",
   "execution_count": 5,
   "id": "817efff6",
   "metadata": {},
   "outputs": [],
   "source": [
    "def analizar_punto_stable_rank_th(punto,puntos_ceros,puntos_unos,srank_ceros,srank_unos,sample=None,contour=sr.standard_contour(),clustering_method=\"single\",w_p=inf,w_q=1,reduced=True,p=2,th=0.8):\n",
    "    d_ceros_mod = sr.Distance(squareform(pdist(np.array([punto.tolist()]+puntos_ceros.tolist()), \"euclidean\")))\n",
    "    srank_ceros_mod=d_ceros_mod.get_h0sr(clustering_method=clustering_method)\n",
    "    d_unos_mod = sr.Distance(squareform(pdist(np.array([punto.tolist()]+puntos_unos.tolist()), \"euclidean\")))\n",
    "    srank_unos_mod=d_unos_mod.get_h0sr(clustering_method=clustering_method)\n",
    "    \n",
    "    distance_cero=abs(srank_ceros.lp_distance(srank_ceros_mod,p))\n",
    "    distance_uno=abs(srank_unos.lp_distance(srank_unos_mod,p))\n",
    "    \n",
    "    distancia=distance_cero+distance_uno\n",
    "    if max(distance_cero/distancia,distance_uno/distancia)<th:\n",
    "        clase=-1\n",
    "    elif distance_cero>distance_uno:\n",
    "        clase=1\n",
    "    else:\n",
    "        clase=0\n",
    "    return clase"
   ]
  },
  {
   "cell_type": "code",
   "execution_count": 6,
   "id": "1a1237c5",
   "metadata": {},
   "outputs": [],
   "source": [
    "def analizar_punto_stable_rank(punto,puntos_ceros,puntos_unos,srank_ceros,srank_unos,sample=None,contour=sr.standard_contour(),clustering_method=\"single\",w_p=inf,w_q=1,reduced=True,p=2,th=0):\n",
    "    d_ceros_mod = sr.Distance(squareform(pdist(np.array([punto.tolist()]+puntos_ceros.tolist()), \"euclidean\")))\n",
    "    srank_ceros_mod=d_ceros_mod.get_h0sr(clustering_method=clustering_method)\n",
    "    d_unos_mod = sr.Distance(squareform(pdist(np.array([punto.tolist()]+puntos_unos.tolist()), \"euclidean\")))\n",
    "    srank_unos_mod=d_unos_mod.get_h0sr(clustering_method=clustering_method)\n",
    "    \n",
    "    distance_cero=abs(srank_ceros.lp_distance(srank_ceros_mod,p))\n",
    "    distance_uno=abs(srank_unos.lp_distance(srank_unos_mod,p))\n",
    "    \n",
    "    clase=-1\n",
    "    if distance_cero>distance_uno:\n",
    "        clase=1\n",
    "    else:\n",
    "        clase=0\n",
    "    return clase"
   ]
  },
  {
   "cell_type": "code",
   "execution_count": 7,
   "id": "eba59173",
   "metadata": {},
   "outputs": [],
   "source": [
    "def analizar_puntos(data,target,func,sample=None,contour=sr.standard_contour(),w_p=inf,w_q=1,reduced=True,p=2,th=0,clustering_method=\"single\",reduccion=False):\n",
    "  (puntos_ceros,puntos_unos,X_unlabeled_ceros,X_unlabeled_unos,X_unlabeled_ceros_valid,X_unlabeled_unos_valid)=preparar_dataset(data,target)\n",
    "  embedding=data\n",
    "  if reduccion==True:\n",
    "    embedding=umap.UMAP(random_state=75).fit_transform(data)\n",
    "  (puntos_ceros_umap,puntos_unos_umap,X_unlabeled_ceros_umap,X_unlabeled_unos_umap,X_unlabeled_ceros_valid_umap,X_unlabeled_unos_valid_umap)=preparar_dataset(embedding,target)\n",
    "\n",
    "\n",
    "  bien=0\n",
    "  mal=0\n",
    "  dudoso=0\n",
    "\n",
    "  puntos_ceros_final=puntos_ceros.tolist()\n",
    "  puntos_unos_final=puntos_unos.tolist()\n",
    "  puntos_dudosos_final=[]\n",
    "\n",
    "  d_ceros = sr.Distance(squareform(pdist(puntos_ceros_umap, \"euclidean\")))\n",
    "  srank_ceros=d_ceros.get_h0sr(clustering_method=clustering_method)\n",
    "  d_unos = sr.Distance(squareform(pdist(puntos_unos_umap, \"euclidean\")))\n",
    "  srank_unos=d_unos.get_h0sr(clustering_method=clustering_method)\n",
    "    \n",
    "  for i,punto in enumerate(X_unlabeled_unos_umap):\n",
    "    clase=func(punto,puntos_ceros_umap,puntos_unos_umap,srank_ceros,srank_unos,sample,contour,clustering_method,w_p,w_q,reduced,p,th)\n",
    "    if clase==1:\n",
    "      bien=bien+1\n",
    "      puntos_unos_final.append(X_unlabeled_unos[i])\n",
    "    elif clase==0:\n",
    "      mal=mal+1\n",
    "      puntos_ceros_final.append(X_unlabeled_unos[i])\n",
    "    else:\n",
    "      dudoso=dudoso+1\n",
    "      puntos_dudosos_final.append(X_unlabeled_unos[i])\n",
    "\n",
    "\n",
    "  \n",
    "  for i,punto in enumerate(X_unlabeled_ceros_umap):\n",
    "    clase=func(punto,puntos_ceros_umap,puntos_unos_umap,srank_ceros,srank_unos,sample,contour,clustering_method,w_p,w_q,reduced,p,th)\n",
    "    if clase==1:\n",
    "      mal=mal+1\n",
    "      puntos_unos_final.append(X_unlabeled_ceros[i])\n",
    "    elif clase==0:\n",
    "      bien=bien+1\n",
    "      puntos_ceros_final.append(X_unlabeled_ceros[i])\n",
    "    else:\n",
    "      dudoso=dudoso+1\n",
    "      puntos_dudosos_final.append(X_unlabeled_ceros[i])\n",
    "  \n",
    "  comprobar_accuracy(np.array(puntos_ceros_final),np.array(puntos_unos_final),X_unlabeled_ceros_valid,X_unlabeled_unos_valid)\n",
    "\n",
    "  return (bien, mal,dudoso,np.array(puntos_ceros_final),np.array(puntos_unos_final),np.array(puntos_dudosos_final))"
   ]
  },
  {
   "cell_type": "code",
   "execution_count": 8,
   "id": "61a3b0cf",
   "metadata": {},
   "outputs": [],
   "source": [
    "from sklearn.svm import SVC\n",
    "from sklearn.ensemble import RandomForestClassifier\n",
    "\n",
    "def comprobar_accuracy(puntos_ceros_final,puntos_unos_final,X_unlabeled_ceros_valid,X_unlabeled_unos_valid):\n",
    "    datos=np.concatenate((puntos_ceros_final,puntos_unos_final),axis=0)\n",
    "    labels=np.concatenate((np.zeros(puntos_ceros_final.shape[0]),np.ones(puntos_unos_final.shape[0])))\n",
    "\n",
    "    modelSVMLineal = SVC(kernel=\"linear\",probability=True,random_state=90)\n",
    "    modelSVMLineal.fit(datos, labels)\n",
    "\n",
    "    mal=np.count_nonzero(modelSVMLineal.predict(X_unlabeled_ceros_valid)!=0)\n",
    "    mal=mal+np.count_nonzero(modelSVMLineal.predict(X_unlabeled_unos_valid)!=1)\n",
    "    total=X_unlabeled_ceros_valid.shape[0]+X_unlabeled_unos_valid.shape[0]\n",
    "    print(\"--------------Clasificador SVM--------------\")\n",
    "    resumen(total-mal,mal,0)\n",
    "    print(\"\")\n",
    "\n",
    "\n",
    "    # datos=np.concatenate((puntos_ceros_final,puntos_unos_final),axis=0)\n",
    "    # labels=np.concatenate((np.zeros(puntos_ceros_final.shape[0]),np.ones(puntos_unos_final.shape[0])))\n",
    "\n",
    "    modelRandomForest = RandomForestClassifier(random_state=90)\n",
    "    modelRandomForest.fit(datos, labels)\n",
    "\n",
    "    mal=np.count_nonzero(modelRandomForest.predict(X_unlabeled_ceros_valid)!=0)\n",
    "    mal=mal+np.count_nonzero(modelRandomForest.predict(X_unlabeled_unos_valid)!=1)\n",
    "    total=X_unlabeled_ceros_valid.shape[0]+X_unlabeled_unos_valid.shape[0]\n",
    "    print(\"-------------- Clasificador Random Forest--------------\")\n",
    "    resumen(total-mal,mal,0)\n",
    "    print(\"\")"
   ]
  },
  {
   "cell_type": "code",
   "execution_count": 9,
   "id": "0f3387bb",
   "metadata": {},
   "outputs": [],
   "source": [
    "def resumen(bien,mal,dudosos):\n",
    "  print('-----------------RESUMEN------------------')\n",
    "  print('Bien anotados '+str(bien))\n",
    "  print('Mal anotados '+str(mal))\n",
    "  print('Sin anotar '+str(dudosos))\n",
    "  print('')\n",
    "  if bien+mal!=0:\n",
    "    print('Porcentaje correcto '+str(bien/(bien+mal)))\n",
    "  else:\n",
    "    print('Porcentaje correcto 0')\n",
    "  print('Porcentaje anotado '+str((bien+mal)/(bien+mal+dudosos)))"
   ]
  },
  {
   "cell_type": "markdown",
   "id": "9a9c5e73",
   "metadata": {},
   "source": [
    "# Standard unreduced stable rank"
   ]
  },
  {
   "cell_type": "markdown",
   "id": "45afc4d8",
   "metadata": {},
   "source": [
    "## No threshold"
   ]
  },
  {
   "cell_type": "code",
   "execution_count": 10,
   "id": "a2ab8bed",
   "metadata": {},
   "outputs": [
    {
     "name": "stdout",
     "output_type": "stream",
     "text": [
      "--------------Clasificador SVM--------------\n",
      "-----------------RESUMEN------------------\n",
      "Bien anotados 257\n",
      "Mal anotados 7\n",
      "Sin anotar 0\n",
      "\n",
      "Porcentaje correcto 0.9734848484848485\n",
      "Porcentaje anotado 1.0\n",
      "\n",
      "-------------- Clasificador Random Forest--------------\n",
      "-----------------RESUMEN------------------\n",
      "Bien anotados 257\n",
      "Mal anotados 7\n",
      "Sin anotar 0\n",
      "\n",
      "Porcentaje correcto 0.9734848484848485\n",
      "Porcentaje anotado 1.0\n",
      "\n",
      "-----------------RESUMEN------------------\n",
      "Bien anotados 1017\n",
      "Mal anotados 41\n",
      "Sin anotar 0\n",
      "\n",
      "Porcentaje correcto 0.9612476370510397\n",
      "Porcentaje anotado 1.0\n"
     ]
    }
   ],
   "source": [
    "(data,target) = load_prima()\n",
    "(bien,mal,dudoso,pcero,puno,pdudoso)=analizar_puntos(data,target,analizar_punto_stable_rank)\n",
    "resumen(bien,mal,dudoso)"
   ]
  },
  {
   "cell_type": "markdown",
   "id": "83d58601",
   "metadata": {},
   "source": [
    "## Threshold 0.8"
   ]
  },
  {
   "cell_type": "code",
   "execution_count": 11,
   "id": "fd2a7c49",
   "metadata": {},
   "outputs": [
    {
     "name": "stdout",
     "output_type": "stream",
     "text": [
      "--------------Clasificador SVM--------------\n",
      "-----------------RESUMEN------------------\n",
      "Bien anotados 256\n",
      "Mal anotados 8\n",
      "Sin anotar 0\n",
      "\n",
      "Porcentaje correcto 0.9696969696969697\n",
      "Porcentaje anotado 1.0\n",
      "\n",
      "-------------- Clasificador Random Forest--------------\n",
      "-----------------RESUMEN------------------\n",
      "Bien anotados 234\n",
      "Mal anotados 30\n",
      "Sin anotar 0\n",
      "\n",
      "Porcentaje correcto 0.8863636363636364\n",
      "Porcentaje anotado 1.0\n",
      "\n",
      "-----------------RESUMEN------------------\n",
      "Bien anotados 20\n",
      "Mal anotados 0\n",
      "Sin anotar 1038\n",
      "\n",
      "Porcentaje correcto 1.0\n",
      "Porcentaje anotado 0.01890359168241966\n"
     ]
    }
   ],
   "source": [
    "(data,target) = load_prima()\n",
    "(bien,mal,dudoso,pcero,puno,pdudoso)=analizar_puntos(data,target,analizar_punto_stable_rank_th,th=0.8)\n",
    "resumen(bien,mal,dudoso)"
   ]
  },
  {
   "cell_type": "markdown",
   "id": "0a2e9d46",
   "metadata": {},
   "source": [
    "## Threshold 0.6"
   ]
  },
  {
   "cell_type": "code",
   "execution_count": 12,
   "id": "cc19fa66",
   "metadata": {},
   "outputs": [
    {
     "name": "stdout",
     "output_type": "stream",
     "text": [
      "--------------Clasificador SVM--------------\n",
      "-----------------RESUMEN------------------\n",
      "Bien anotados 257\n",
      "Mal anotados 7\n",
      "Sin anotar 0\n",
      "\n",
      "Porcentaje correcto 0.9734848484848485\n",
      "Porcentaje anotado 1.0\n",
      "\n",
      "-------------- Clasificador Random Forest--------------\n",
      "-----------------RESUMEN------------------\n",
      "Bien anotados 238\n",
      "Mal anotados 26\n",
      "Sin anotar 0\n",
      "\n",
      "Porcentaje correcto 0.9015151515151515\n",
      "Porcentaje anotado 1.0\n",
      "\n",
      "-----------------RESUMEN------------------\n",
      "Bien anotados 548\n",
      "Mal anotados 0\n",
      "Sin anotar 510\n",
      "\n",
      "Porcentaje correcto 1.0\n",
      "Porcentaje anotado 0.5179584120982986\n"
     ]
    }
   ],
   "source": [
    "(data,target) = load_prima()\n",
    "(bien,mal,dudoso,pcero,puno,pdudoso)=analizar_puntos(data,target,analizar_punto_stable_rank_th,th=0.6)\n",
    "resumen(bien,mal,dudoso)"
   ]
  },
  {
   "cell_type": "markdown",
   "id": "d999f397",
   "metadata": {},
   "source": [
    "## Threshold 0.4"
   ]
  },
  {
   "cell_type": "code",
   "execution_count": 13,
   "id": "bbe524ed",
   "metadata": {},
   "outputs": [
    {
     "name": "stdout",
     "output_type": "stream",
     "text": [
      "--------------Clasificador SVM--------------\n",
      "-----------------RESUMEN------------------\n",
      "Bien anotados 257\n",
      "Mal anotados 7\n",
      "Sin anotar 0\n",
      "\n",
      "Porcentaje correcto 0.9734848484848485\n",
      "Porcentaje anotado 1.0\n",
      "\n",
      "-------------- Clasificador Random Forest--------------\n",
      "-----------------RESUMEN------------------\n",
      "Bien anotados 257\n",
      "Mal anotados 7\n",
      "Sin anotar 0\n",
      "\n",
      "Porcentaje correcto 0.9734848484848485\n",
      "Porcentaje anotado 1.0\n",
      "\n",
      "-----------------RESUMEN------------------\n",
      "Bien anotados 1017\n",
      "Mal anotados 41\n",
      "Sin anotar 0\n",
      "\n",
      "Porcentaje correcto 0.9612476370510397\n",
      "Porcentaje anotado 1.0\n"
     ]
    }
   ],
   "source": [
    "(data,target) = load_prima()\n",
    "(bien,mal,dudoso,pcero,puno,pdudoso)=analizar_puntos(data,target,analizar_punto_stable_rank_th,th=0.4)\n",
    "resumen(bien,mal,dudoso)"
   ]
  },
  {
   "cell_type": "markdown",
   "id": "60e8c751",
   "metadata": {},
   "source": [
    "## Threshold 0.2"
   ]
  },
  {
   "cell_type": "code",
   "execution_count": 14,
   "id": "48cbf241",
   "metadata": {},
   "outputs": [
    {
     "name": "stdout",
     "output_type": "stream",
     "text": [
      "--------------Clasificador SVM--------------\n",
      "-----------------RESUMEN------------------\n",
      "Bien anotados 257\n",
      "Mal anotados 7\n",
      "Sin anotar 0\n",
      "\n",
      "Porcentaje correcto 0.9734848484848485\n",
      "Porcentaje anotado 1.0\n",
      "\n",
      "-------------- Clasificador Random Forest--------------\n",
      "-----------------RESUMEN------------------\n",
      "Bien anotados 257\n",
      "Mal anotados 7\n",
      "Sin anotar 0\n",
      "\n",
      "Porcentaje correcto 0.9734848484848485\n",
      "Porcentaje anotado 1.0\n",
      "\n",
      "-----------------RESUMEN------------------\n",
      "Bien anotados 1017\n",
      "Mal anotados 41\n",
      "Sin anotar 0\n",
      "\n",
      "Porcentaje correcto 0.9612476370510397\n",
      "Porcentaje anotado 1.0\n"
     ]
    }
   ],
   "source": [
    "(data,target) = load_prima()\n",
    "(bien,mal,dudoso,pcero,puno,pdudoso)=analizar_puntos(data,target,analizar_punto_stable_rank_th,th=0.2)\n",
    "resumen(bien,mal,dudoso)"
   ]
  },
  {
   "cell_type": "markdown",
   "id": "736f04cd",
   "metadata": {},
   "source": [
    "## UMAP no threshold"
   ]
  },
  {
   "cell_type": "code",
   "execution_count": 15,
   "id": "a6fc1505",
   "metadata": {},
   "outputs": [
    {
     "name": "stdout",
     "output_type": "stream",
     "text": [
      "--------------Clasificador SVM--------------\n",
      "-----------------RESUMEN------------------\n",
      "Bien anotados 255\n",
      "Mal anotados 9\n",
      "Sin anotar 0\n",
      "\n",
      "Porcentaje correcto 0.9659090909090909\n",
      "Porcentaje anotado 1.0\n",
      "\n",
      "-------------- Clasificador Random Forest--------------\n",
      "-----------------RESUMEN------------------\n",
      "Bien anotados 244\n",
      "Mal anotados 20\n",
      "Sin anotar 0\n",
      "\n",
      "Porcentaje correcto 0.9242424242424242\n",
      "Porcentaje anotado 1.0\n",
      "\n",
      "-----------------RESUMEN------------------\n",
      "Bien anotados 972\n",
      "Mal anotados 86\n",
      "Sin anotar 0\n",
      "\n",
      "Porcentaje correcto 0.9187145557655955\n",
      "Porcentaje anotado 1.0\n"
     ]
    }
   ],
   "source": [
    "(data,target) = load_prima()\n",
    "(bien,mal,dudoso,pcero,puno,pdudoso)=analizar_puntos(data,target,analizar_punto_stable_rank,reduccion=True)\n",
    "resumen(bien,mal,dudoso)"
   ]
  },
  {
   "cell_type": "markdown",
   "id": "5fc7de93",
   "metadata": {},
   "source": [
    "## UMAP threshold 0.8"
   ]
  },
  {
   "cell_type": "code",
   "execution_count": 16,
   "id": "203e269a",
   "metadata": {},
   "outputs": [
    {
     "name": "stdout",
     "output_type": "stream",
     "text": [
      "--------------Clasificador SVM--------------\n",
      "-----------------RESUMEN------------------\n",
      "Bien anotados 257\n",
      "Mal anotados 7\n",
      "Sin anotar 0\n",
      "\n",
      "Porcentaje correcto 0.9734848484848485\n",
      "Porcentaje anotado 1.0\n",
      "\n",
      "-------------- Clasificador Random Forest--------------\n",
      "-----------------RESUMEN------------------\n",
      "Bien anotados 238\n",
      "Mal anotados 26\n",
      "Sin anotar 0\n",
      "\n",
      "Porcentaje correcto 0.9015151515151515\n",
      "Porcentaje anotado 1.0\n",
      "\n",
      "-----------------RESUMEN------------------\n",
      "Bien anotados 433\n",
      "Mal anotados 0\n",
      "Sin anotar 625\n",
      "\n",
      "Porcentaje correcto 1.0\n",
      "Porcentaje anotado 0.40926275992438566\n"
     ]
    }
   ],
   "source": [
    "(data,target) = load_prima()\n",
    "(bien,mal,dudoso,pcero,puno,pdudoso)=analizar_puntos(data,target,analizar_punto_stable_rank_th,th=0.8,reduccion=True)\n",
    "resumen(bien,mal,dudoso)"
   ]
  },
  {
   "cell_type": "markdown",
   "id": "0301d9de",
   "metadata": {},
   "source": [
    "## UMAP threshold 0.6"
   ]
  },
  {
   "cell_type": "code",
   "execution_count": 17,
   "id": "ffd9249b",
   "metadata": {},
   "outputs": [
    {
     "name": "stdout",
     "output_type": "stream",
     "text": [
      "--------------Clasificador SVM--------------\n",
      "-----------------RESUMEN------------------\n",
      "Bien anotados 262\n",
      "Mal anotados 2\n",
      "Sin anotar 0\n",
      "\n",
      "Porcentaje correcto 0.9924242424242424\n",
      "Porcentaje anotado 1.0\n",
      "\n",
      "-------------- Clasificador Random Forest--------------\n",
      "-----------------RESUMEN------------------\n",
      "Bien anotados 253\n",
      "Mal anotados 11\n",
      "Sin anotar 0\n",
      "\n",
      "Porcentaje correcto 0.9583333333333334\n",
      "Porcentaje anotado 1.0\n",
      "\n",
      "-----------------RESUMEN------------------\n",
      "Bien anotados 938\n",
      "Mal anotados 0\n",
      "Sin anotar 120\n",
      "\n",
      "Porcentaje correcto 1.0\n",
      "Porcentaje anotado 0.8865784499054821\n"
     ]
    }
   ],
   "source": [
    "(data,target) = load_prima()\n",
    "(bien,mal,dudoso,pcero,puno,pdudoso)=analizar_puntos(data,target,analizar_punto_stable_rank_th,th=0.6,reduccion=True)\n",
    "resumen(bien,mal,dudoso)"
   ]
  },
  {
   "cell_type": "markdown",
   "id": "c10ac673",
   "metadata": {},
   "source": [
    "## UMAP threshold 0.4"
   ]
  },
  {
   "cell_type": "code",
   "execution_count": 18,
   "id": "1f7a67cb",
   "metadata": {},
   "outputs": [
    {
     "name": "stdout",
     "output_type": "stream",
     "text": [
      "--------------Clasificador SVM--------------\n",
      "-----------------RESUMEN------------------\n",
      "Bien anotados 255\n",
      "Mal anotados 9\n",
      "Sin anotar 0\n",
      "\n",
      "Porcentaje correcto 0.9659090909090909\n",
      "Porcentaje anotado 1.0\n",
      "\n",
      "-------------- Clasificador Random Forest--------------\n",
      "-----------------RESUMEN------------------\n",
      "Bien anotados 248\n",
      "Mal anotados 16\n",
      "Sin anotar 0\n",
      "\n",
      "Porcentaje correcto 0.9393939393939394\n",
      "Porcentaje anotado 1.0\n",
      "\n",
      "-----------------RESUMEN------------------\n",
      "Bien anotados 987\n",
      "Mal anotados 71\n",
      "Sin anotar 0\n",
      "\n",
      "Porcentaje correcto 0.9328922495274102\n",
      "Porcentaje anotado 1.0\n"
     ]
    }
   ],
   "source": [
    "(data,target) = load_prima()\n",
    "(bien,mal,dudoso,pcero,puno,pdudoso)=analizar_puntos(data,target,analizar_punto_stable_rank_th,th=0.4,reduccion=True)\n",
    "resumen(bien,mal,dudoso)"
   ]
  },
  {
   "cell_type": "markdown",
   "id": "278375ec",
   "metadata": {},
   "source": [
    "## UMAP threshold 0.2"
   ]
  },
  {
   "cell_type": "code",
   "execution_count": 19,
   "id": "08e705c9",
   "metadata": {},
   "outputs": [
    {
     "name": "stdout",
     "output_type": "stream",
     "text": [
      "--------------Clasificador SVM--------------\n",
      "-----------------RESUMEN------------------\n",
      "Bien anotados 257\n",
      "Mal anotados 7\n",
      "Sin anotar 0\n",
      "\n",
      "Porcentaje correcto 0.9734848484848485\n",
      "Porcentaje anotado 1.0\n",
      "\n",
      "-------------- Clasificador Random Forest--------------\n",
      "-----------------RESUMEN------------------\n",
      "Bien anotados 252\n",
      "Mal anotados 12\n",
      "Sin anotar 0\n",
      "\n",
      "Porcentaje correcto 0.9545454545454546\n",
      "Porcentaje anotado 1.0\n",
      "\n",
      "-----------------RESUMEN------------------\n",
      "Bien anotados 1027\n",
      "Mal anotados 31\n",
      "Sin anotar 0\n",
      "\n",
      "Porcentaje correcto 0.9706994328922496\n",
      "Porcentaje anotado 1.0\n"
     ]
    }
   ],
   "source": [
    "(data,target) = load_prima()\n",
    "(bien,mal,dudoso,pcero,puno,pdudoso)=analizar_puntos(data,target,analizar_punto_stable_rank_th,th=0.2,reduccion=True)\n",
    "resumen(bien,mal,dudoso)"
   ]
  },
  {
   "cell_type": "code",
   "execution_count": null,
   "id": "f48b9d94",
   "metadata": {},
   "outputs": [],
   "source": []
  }
 ],
 "metadata": {
  "kernelspec": {
   "display_name": "Python 3 (ipykernel)",
   "language": "python",
   "name": "python3"
  },
  "language_info": {
   "codemirror_mode": {
    "name": "ipython",
    "version": 3
   },
   "file_extension": ".py",
   "mimetype": "text/x-python",
   "name": "python",
   "nbconvert_exporter": "python",
   "pygments_lexer": "ipython3",
   "version": "3.11.4"
  }
 },
 "nbformat": 4,
 "nbformat_minor": 5
}
